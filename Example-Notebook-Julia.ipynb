{
 "cells": [
  {
   "cell_type": "markdown",
   "id": "e2ffab88-8c40-4849-b239-0f55b8b0e4a1",
   "metadata": {},
   "source": [
    "# Example of WPT usage"
   ]
  },
  {
   "cell_type": "code",
   "execution_count": 1,
   "id": "e21a6928-e677-4468-a86a-132db1584af2",
   "metadata": {},
   "outputs": [
    {
     "name": "stderr",
     "output_type": "stream",
     "text": [
      "\u001b[32m\u001b[1m   Resolving\u001b[22m\u001b[39m package versions...\n",
      "\u001b[32m\u001b[1m  No Changes\u001b[22m\u001b[39m to `~/.julia/environments/v1.11/Project.toml`\n",
      "\u001b[32m\u001b[1m  No Changes\u001b[22m\u001b[39m to `~/.julia/environments/v1.11/Manifest.toml`\n"
     ]
    }
   ],
   "source": [
    "include(\"WeightedProjTools.jl\")"
   ]
  },
  {
   "cell_type": "markdown",
   "id": "23131e46-25ec-4060-9654-f81305a875cc",
   "metadata": {},
   "source": [
    "### Weights"
   ]
  },
  {
   "cell_type": "markdown",
   "id": "6ca0a0ee-3aca-4d10-bcc1-5852376e9bee",
   "metadata": {},
   "source": [
    "Let's create a Weights struct corresponding to $a=(a_0,\\dots, a_r)$"
   ]
  },
  {
   "cell_type": "code",
   "execution_count": 2,
   "id": "5a15c607-e81b-4554-9638-3ea810c1c596",
   "metadata": {},
   "outputs": [
    {
     "data": {
      "text/plain": [
       "Weights([10, 25, 30, 40], [2, 5, 6, 8], [1, 5, 3, 4], 5, [1, 2, 1, 1], [2, 1, 2, 2], 2, 600)"
      ]
     },
     "execution_count": 2,
     "metadata": {},
     "output_type": "execute_result"
    }
   ],
   "source": [
    "a = Weights([40, 25, 30, 10])"
   ]
  },
  {
   "cell_type": "markdown",
   "id": "1d173ee8-1277-432d-8a45-a6c0e506101f",
   "metadata": {},
   "source": [
    "The struct `Weights` has several instance attributes. Let's go through them one by one. "
   ]
  },
  {
   "cell_type": "code",
   "execution_count": 3,
   "id": "7b3c2154-eb98-4e80-a5ad-910ec410363c",
   "metadata": {},
   "outputs": [
    {
     "data": {
      "text/plain": [
       "1×4 adjoint(::Vector{Int64}) with eltype Int64:\n",
       " 10  25  30  40"
      ]
     },
     "execution_count": 3,
     "metadata": {},
     "output_type": "execute_result"
    }
   ],
   "source": [
    "a.weights' # notice that weights reorder"
   ]
  },
  {
   "cell_type": "markdown",
   "id": "ee797449-4ed8-4910-a02e-d1f1ab46ea33",
   "metadata": {},
   "source": [
    "Let's see its greatest common divisor (GCD) $k=\\gcd(a_0,\\dots,a_r)$ #check new notation ie change k mi sa"
   ]
  },
  {
   "cell_type": "code",
   "execution_count": 4,
   "id": "e3c7e1bb-1c88-48fc-b805-5f9d54aaf066",
   "metadata": {},
   "outputs": [
    {
     "data": {
      "text/plain": [
       "5"
      ]
     },
     "execution_count": 4,
     "metadata": {},
     "output_type": "execute_result"
    }
   ],
   "source": [
    "a.gcd"
   ]
  },
  {
   "cell_type": "markdown",
   "id": "05381423-0d50-4fab-93c3-ab1027519278",
   "metadata": {},
   "source": [
    "we also store lcm for later use"
   ]
  },
  {
   "cell_type": "code",
   "execution_count": 5,
   "id": "5230cf5b-c7b4-4a58-8979-1392ab4bfa48",
   "metadata": {},
   "outputs": [
    {
     "data": {
      "text/plain": [
       "600"
      ]
     },
     "execution_count": 5,
     "metadata": {},
     "output_type": "execute_result"
    }
   ],
   "source": [
    "a.lcm"
   ]
  },
  {
   "cell_type": "markdown",
   "id": "46781ecc-2424-49d9-93b1-4ac1a8ed8abe",
   "metadata": {},
   "source": [
    "Reduce the weights to $a'=a/k$ #again change notation"
   ]
  },
  {
   "cell_type": "code",
   "execution_count": 6,
   "id": "ffb381da-d27e-4902-94d9-8120b946006f",
   "metadata": {},
   "outputs": [
    {
     "data": {
      "text/plain": [
       "1×4 adjoint(::Vector{Int64}) with eltype Int64:\n",
       " 2  5  6  8"
      ]
     },
     "execution_count": 6,
     "metadata": {},
     "output_type": "execute_result"
    }
   ],
   "source": [
    "a.reduced_weights'"
   ]
  },
  {
   "cell_type": "markdown",
   "id": "02e339c5-0098-4087-a4cf-46df7c56b50b",
   "metadata": {},
   "source": [
    "Calculate $s_i = \\gcd(a_0',\\dots,a_{i-1}',a_{i+1}',\\dots,a_r')$ and save them in a list $S=(s_0,\\dots,s_r)$"
   ]
  },
  {
   "cell_type": "code",
   "execution_count": 7,
   "id": "e4487d5a-5e0d-4e15-a4ea-065280a2191d",
   "metadata": {},
   "outputs": [
    {
     "data": {
      "text/plain": [
       "1×4 adjoint(::Vector{Int64}) with eltype Int64:\n",
       " 1  2  1  1"
      ]
     },
     "execution_count": 7,
     "metadata": {},
     "output_type": "execute_result"
    }
   ],
   "source": [
    "a.sub_gcd'"
   ]
  },
  {
   "cell_type": "markdown",
   "id": "5f2c8a12-2f61-4c87-8bcb-5603fd9d85ae",
   "metadata": {},
   "source": [
    "Calculate the least common multiple (LCM) of the subarrays of $S$: $q_i=\\operatorname{lcm}(s_0,\\dots,s_{i-1},s_{i+1},\\dots,s_r)$ and save them in a list $Q=(q_0,\\dots,q_r)$"
   ]
  },
  {
   "cell_type": "code",
   "execution_count": 8,
   "id": "81e2f580-c5d9-450f-855b-f481732d4c77",
   "metadata": {},
   "outputs": [
    {
     "data": {
      "text/plain": [
       "1×4 adjoint(::Vector{Int64}) with eltype Int64:\n",
       " 2  1  2  2"
      ]
     },
     "execution_count": 8,
     "metadata": {},
     "output_type": "execute_result"
    }
   ],
   "source": [
    "a.sub_lcm_of_sub_gcd'"
   ]
  },
  {
   "cell_type": "markdown",
   "id": "89568ab0-8278-43ab-bbf1-2c4df017f467",
   "metadata": {},
   "source": [
    "Now we can compute the well-formed weights $\\bar{a}=(a'_0/q_0,\\dots,a'_n/q_r)$"
   ]
  },
  {
   "cell_type": "code",
   "execution_count": 9,
   "id": "dc86918b-a928-48be-a4e6-f518c43dc286",
   "metadata": {},
   "outputs": [
    {
     "data": {
      "text/plain": [
       "1×4 adjoint(::Vector{Int64}) with eltype Int64:\n",
       " 1  5  3  4"
      ]
     },
     "execution_count": 9,
     "metadata": {},
     "output_type": "execute_result"
    }
   ],
   "source": [
    "a.wellformed_weights'"
   ]
  },
  {
   "cell_type": "markdown",
   "id": "70cb6fb3-9311-49d2-bb54-f64cd4ba8869",
   "metadata": {},
   "source": [
    "`Weights` also have an instance attribute that stores actually lcm of subgcd tho check $q=\\gcd(S)$. It is useful for degree reduction later."
   ]
  },
  {
   "cell_type": "code",
   "execution_count": 10,
   "id": "e4082f77-ca27-4437-8997-70add1e7a046",
   "metadata": {},
   "outputs": [
    {
     "data": {
      "text/plain": [
       "2"
      ]
     },
     "execution_count": 10,
     "metadata": {},
     "output_type": "execute_result"
    }
   ],
   "source": [
    "a.lcm_of_sub_gcd"
   ]
  },
  {
   "cell_type": "markdown",
   "id": "ca6c133d-1d5b-4c29-a1a6-fe5dbf868907",
   "metadata": {},
   "source": [
    "We can also check if a weight is already reduced or well-formed"
   ]
  },
  {
   "cell_type": "code",
   "execution_count": 11,
   "id": "3903027d-c82c-40cf-8d74-d8d58b178384",
   "metadata": {},
   "outputs": [
    {
     "data": {
      "text/plain": [
       "false"
      ]
     },
     "execution_count": 11,
     "metadata": {},
     "output_type": "execute_result"
    }
   ],
   "source": [
    "a.is_reduced"
   ]
  },
  {
   "cell_type": "code",
   "execution_count": 12,
   "id": "e2ae7fcc-16c6-414e-abab-b86a98bf5529",
   "metadata": {},
   "outputs": [
    {
     "data": {
      "text/plain": [
       "false"
      ]
     },
     "execution_count": 12,
     "metadata": {},
     "output_type": "execute_result"
    }
   ],
   "source": [
    "a.is_wellformed"
   ]
  },
  {
   "cell_type": "code",
   "execution_count": 13,
   "id": "32eac714-133a-4811-a91b-cd1f01b7f540",
   "metadata": {},
   "outputs": [
    {
     "data": {
      "text/plain": [
       "Weights([1, 3, 4, 5], [1, 3, 4, 5], [1, 3, 4, 5], 1, [1, 1, 1, 1], [1, 1, 1, 1], 1, 60)"
      ]
     },
     "execution_count": 13,
     "metadata": {},
     "output_type": "execute_result"
    }
   ],
   "source": [
    "b = Weights([1, 5, 3, 4])"
   ]
  },
  {
   "cell_type": "code",
   "execution_count": 14,
   "id": "b90d780a-3979-4913-b783-cdcf92cec7be",
   "metadata": {},
   "outputs": [
    {
     "data": {
      "text/plain": [
       "true"
      ]
     },
     "execution_count": 14,
     "metadata": {},
     "output_type": "execute_result"
    }
   ],
   "source": [
    "b.is_reduced"
   ]
  },
  {
   "cell_type": "code",
   "execution_count": 15,
   "id": "fb0b4b6b-8d5d-4f44-9278-b3dac710ea2d",
   "metadata": {},
   "outputs": [
    {
     "data": {
      "text/plain": [
       "true"
      ]
     },
     "execution_count": 15,
     "metadata": {},
     "output_type": "execute_result"
    }
   ],
   "source": [
    "b.is_wellformed"
   ]
  },
  {
   "cell_type": "markdown",
   "id": "da088c64-6030-412f-bedb-2aa7b978ba0b",
   "metadata": {},
   "source": [
    "### Twisted Sheaf"
   ]
  },
  {
   "cell_type": "markdown",
   "id": "dd70991c-f5d7-49aa-aac9-7ca0c2f544e4",
   "metadata": {},
   "source": [
    "The `LinearSystem` class keeps information about the linear systems $\\mathbb{C}_a[x_0,\\dots,x_n]$.\n",
    "\n",
    "$$\\mathcal{O}_a(kd')\\simeq\\mathcal{O}_{a'}(d')\\simeq\\mathcal{O}_{\\bar{a}}(\\varphi(d'))$$\n",
    "where $d=kd'$, and $$\\varphi(d')=(d'-\\sum_{i=0}^n b_i(d')a'_i)/q$$\n",
    "The $b_i(d')$ are uniquely determined as a solution to the following Diophantine equation $$d'=b_i(d')a'_i+c_i(d')s_i$$ under the condition $0\\leq b_i(d')<s_i$"
   ]
  },
  {
   "cell_type": "code",
   "execution_count": 16,
   "id": "602d3737-b63a-4d22-a04f-ed26381982cb",
   "metadata": {},
   "outputs": [
    {
     "data": {
      "text/plain": [
       "TwistedSheaf(Weights([10, 25, 30, 40], [2, 5, 6, 8], [1, 5, 3, 4], 5, [1, 2, 1, 1], [2, 1, 2, 2], 2, 600), 100, 20, 10.0, [0, 0, 0, 0])"
      ]
     },
     "execution_count": 16,
     "metadata": {},
     "output_type": "execute_result"
    }
   ],
   "source": [
    "deg=100\n",
    "Ocal = TwistedSheaf(a,deg)"
   ]
  },
  {
   "cell_type": "code",
   "execution_count": 17,
   "id": "b6a02070-f76d-4cad-8258-2ed5959f829e",
   "metadata": {},
   "outputs": [
    {
     "data": {
      "text/plain": [
       "Weights([10, 25, 30, 40], [2, 5, 6, 8], [1, 5, 3, 4], 5, [1, 2, 1, 1], [2, 1, 2, 2], 2, 600)"
      ]
     },
     "execution_count": 17,
     "metadata": {},
     "output_type": "execute_result"
    }
   ],
   "source": [
    "Ocal.W"
   ]
  },
  {
   "cell_type": "code",
   "execution_count": 18,
   "id": "a2c54cd5-60b6-4b11-b578-1a2c4e40bcfe",
   "metadata": {},
   "outputs": [
    {
     "data": {
      "text/plain": [
       "100"
      ]
     },
     "execution_count": 18,
     "metadata": {},
     "output_type": "execute_result"
    }
   ],
   "source": [
    "Ocal.degree"
   ]
  },
  {
   "cell_type": "code",
   "execution_count": 19,
   "id": "e3cb36a5-445d-47b7-88d3-f52785fdc2dc",
   "metadata": {},
   "outputs": [
    {
     "data": {
      "text/plain": [
       "true"
      ]
     },
     "execution_count": 19,
     "metadata": {},
     "output_type": "execute_result"
    }
   ],
   "source": [
    "Ocal.is_deg_reducible"
   ]
  },
  {
   "cell_type": "code",
   "execution_count": 20,
   "id": "79eaf94b-80e7-468c-b9d0-5e83d6095c2b",
   "metadata": {},
   "outputs": [
    {
     "data": {
      "text/plain": [
       "20"
      ]
     },
     "execution_count": 20,
     "metadata": {},
     "output_type": "execute_result"
    }
   ],
   "source": [
    "Ocal.reduced_degree"
   ]
  },
  {
   "cell_type": "code",
   "execution_count": 21,
   "id": "7456fde9-cd4b-4d55-b095-2c64846343fc",
   "metadata": {},
   "outputs": [
    {
     "data": {
      "text/plain": [
       "1×4 adjoint(::Vector{Int64}) with eltype Int64:\n",
       " 0  0  0  0"
      ]
     },
     "execution_count": 21,
     "metadata": {},
     "output_type": "execute_result"
    }
   ],
   "source": [
    "Ocal.unique_bs'"
   ]
  },
  {
   "cell_type": "code",
   "execution_count": 22,
   "id": "eaa1c8a1-8665-4027-bd13-aaf1c6557b12",
   "metadata": {},
   "outputs": [
    {
     "data": {
      "text/plain": [
       "10.0"
      ]
     },
     "execution_count": 22,
     "metadata": {},
     "output_type": "execute_result"
    }
   ],
   "source": [
    "Ocal.wellformed_degree"
   ]
  },
  {
   "cell_type": "code",
   "execution_count": 23,
   "id": "01343d36-57c9-4153-b108-4530aecd9f55",
   "metadata": {},
   "outputs": [
    {
     "data": {
      "text/plain": [
       "false"
      ]
     },
     "execution_count": 23,
     "metadata": {},
     "output_type": "execute_result"
    }
   ],
   "source": [
    "Ocal.is_ample"
   ]
  },
  {
   "cell_type": "code",
   "execution_count": 24,
   "id": "b5c607fd-98d7-429e-81ff-8705e881edaf",
   "metadata": {},
   "outputs": [
    {
     "data": {
      "text/plain": [
       "false"
      ]
     },
     "execution_count": 24,
     "metadata": {},
     "output_type": "execute_result"
    }
   ],
   "source": [
    "Ocal.is_very_ample"
   ]
  },
  {
   "cell_type": "markdown",
   "id": "aa75b1fe-562c-405a-9c7a-ef62b09e312b",
   "metadata": {},
   "source": [
    "### Linear System"
   ]
  },
  {
   "cell_type": "markdown",
   "id": "d3dcb281-43c9-403d-9465-0fc6f515ef97",
   "metadata": {},
   "source": [
    "enherits the twistedsheaf class but we can calculate its dimension"
   ]
  },
  {
   "cell_type": "code",
   "execution_count": 25,
   "id": "6465dee2-5f35-42a2-92bc-da8fa0b5a5a2",
   "metadata": {},
   "outputs": [
    {
     "data": {
      "text/plain": [
       "LinearSystem(TwistedSheaf(Weights([2, 4, 4, 7, 8, 9, 23, 65], [2, 4, 4, 7, 8, 9, 23, 65], [2, 4, 4, 7, 8, 9, 23, 65], 1, [1, 1, 1, 1, 1, 1, 1, 1], [1, 1, 1, 1, 1, 1, 1, 1], 1, 753480), 120, 120, 120.0, [0, 0, 0, 0, 0, 0, 0, 0]), 39790)"
      ]
     },
     "execution_count": 25,
     "metadata": {},
     "output_type": "execute_result"
    }
   ],
   "source": [
    "a = Weights([9,2,4,7,8,4,23,65])\n",
    "d = 120\n",
    "LinSys = LinearSystem(a,d)"
   ]
  },
  {
   "cell_type": "code",
   "execution_count": 26,
   "id": "66de1ffe-f2f0-461b-b3b5-ac3b7a2df1ab",
   "metadata": {},
   "outputs": [
    {
     "data": {
      "text/plain": [
       "TwistedSheaf(Weights([2, 4, 4, 7, 8, 9, 23, 65], [2, 4, 4, 7, 8, 9, 23, 65], [2, 4, 4, 7, 8, 9, 23, 65], 1, [1, 1, 1, 1, 1, 1, 1, 1], [1, 1, 1, 1, 1, 1, 1, 1], 1, 753480), 120, 120, 120.0, [0, 0, 0, 0, 0, 0, 0, 0])"
      ]
     },
     "execution_count": 26,
     "metadata": {},
     "output_type": "execute_result"
    }
   ],
   "source": [
    "LinSys.sheaf"
   ]
  },
  {
   "cell_type": "code",
   "execution_count": 27,
   "id": "f801011e-103c-4621-9dec-be7cef1a36ed",
   "metadata": {},
   "outputs": [
    {
     "data": {
      "text/plain": [
       "39790"
      ]
     },
     "execution_count": 27,
     "metadata": {},
     "output_type": "execute_result"
    }
   ],
   "source": [
    "LinSys.dimension "
   ]
  },
  {
   "cell_type": "code",
   "execution_count": 28,
   "id": "d0f2fada-bc3a-4047-adad-935deacabf8c",
   "metadata": {},
   "outputs": [
    {
     "data": {
      "text/plain": [
       "39791"
      ]
     },
     "execution_count": 28,
     "metadata": {},
     "output_type": "execute_result"
    }
   ],
   "source": [
    "dimrec([9,2,4,7,8,4,23,65],120)"
   ]
  },
  {
   "cell_type": "markdown",
   "id": "771e527d-85bf-4d7a-a9d8-8508ca5b9fe4",
   "metadata": {},
   "source": [
    "### Weighted Projective Space"
   ]
  },
  {
   "cell_type": "code",
   "execution_count": 29,
   "id": "d097b63a-d176-452a-8454-cbcd7df053d1",
   "metadata": {},
   "outputs": [
    {
     "data": {
      "text/plain": [
       "WeightedProjectiveSpace(Weights([24, 32, 46, 58], [12, 16, 23, 29], [12, 16, 23, 29], 2, [1, 1, 1, 1], [1, 1, 1, 1], 1, 64032), 32016, 14844.333333333334, 42869814, 32016, LinearSystem(TwistedSheaf(Weights([12, 16, 23, 29], [12, 16, 23, 29], [12, 16, 23, 29], 1, [1, 1, 1, 1], [1, 1, 1, 1], 1, 32016), 32016, 32016, 32016.0, [0, 0, 0, 0]), 42869814))"
      ]
     },
     "execution_count": 29,
     "metadata": {},
     "output_type": "execute_result"
    }
   ],
   "source": [
    "Pa = WeightedProjectiveSpace(Weights([24,46,32,58]))"
   ]
  },
  {
   "cell_type": "code",
   "execution_count": 30,
   "id": "76a5a6ed-5334-46a6-a862-01daee6d8b52",
   "metadata": {},
   "outputs": [
    {
     "data": {
      "text/plain": [
       "42869814"
      ]
     },
     "execution_count": 30,
     "metadata": {},
     "output_type": "execute_result"
    }
   ],
   "source": [
    "Pa.embedding_dimension"
   ]
  },
  {
   "cell_type": "code",
   "execution_count": 31,
   "id": "0a39c6ab-2531-4c71-a17c-db548a76d592",
   "metadata": {},
   "outputs": [
    {
     "data": {
      "text/plain": [
       "LinearSystem(TwistedSheaf(Weights([12, 16, 23, 29], [12, 16, 23, 29], [12, 16, 23, 29], 1, [1, 1, 1, 1], [1, 1, 1, 1], 1, 32016), 32016, 32016, 32016.0, [0, 0, 0, 0]), 42869814)"
      ]
     },
     "execution_count": 31,
     "metadata": {},
     "output_type": "execute_result"
    }
   ],
   "source": [
    "Pa.embedding_linear_system"
   ]
  },
  {
   "cell_type": "code",
   "execution_count": 32,
   "id": "be6849d0-cfe0-4205-95ad-0692bf9ae07d",
   "metadata": {},
   "outputs": [
    {
     "data": {
      "text/plain": [
       "42869814"
      ]
     },
     "execution_count": 32,
     "metadata": {},
     "output_type": "execute_result"
    }
   ],
   "source": [
    "Pa.embedding_linear_system.dimension"
   ]
  },
  {
   "cell_type": "code",
   "execution_count": 33,
   "id": "79c0b403-5443-4ba6-8272-1c4eece7b83d",
   "metadata": {},
   "outputs": [
    {
     "data": {
      "text/plain": [
       "32016"
      ]
     },
     "execution_count": 33,
     "metadata": {},
     "output_type": "execute_result"
    }
   ],
   "source": [
    "Pa.embedding_degree"
   ]
  }
 ],
 "metadata": {
  "kernelspec": {
   "display_name": "Julia 1.11.5",
   "language": "julia",
   "name": "julia-1.11"
  },
  "language_info": {
   "file_extension": ".jl",
   "mimetype": "application/julia",
   "name": "julia",
   "version": "1.11.5"
  }
 },
 "nbformat": 4,
 "nbformat_minor": 5
}
